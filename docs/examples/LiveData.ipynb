{
 "cells": [
  {
   "cell_type": "markdown",
   "metadata": {},
   "source": [
    "# Working with NBA live data...\n",
    "Libraries supporting live data do not include support for Pandas. Note: Any call to `{endpoint}.{Class}()` will perform a request. Example: `scoreboard.ScoreBoard()`. In order to avoid multiple requests, set `{endpoint}.{Class}()` to a variable. See sample code below."
   ]
  },
  {
   "cell_type": "markdown",
   "metadata": {},
   "source": [
    "## Today's Score Board\n"
   ]
  },
  {
   "cell_type": "code",
   "execution_count": null,
   "metadata": {},
   "outputs": [],
   "source": [
    "# Query nba.live.endpoints.scoreboard and  list games in localTimeZone\n",
    "from datetime import datetime, timezone\n",
    "from dateutil import parser\n",
    "from nba_api.live.nba.endpoints import scoreboard\n",
    "\n",
    "f = \"{gameId}: {awayTeam} vs. {homeTeam} @ {gameTimeLTZ}\" \n",
    "\n",
    "board = scoreboard.ScoreBoard()\n",
    "print(\"ScoreBoardDate: \" + board.score_board_date)\n",
    "games = board.games.get_dict()\n",
    "for game in games:\n",
    "    gameTimeLTZ = parser.parse(game[\"gameTimeUTC\"]).replace(tzinfo=timezone.utc).astimezone(tz=None)\n",
    "    print(f.format(gameId=game['gameId'], awayTeam=game['awayTeam']['teamName'], homeTeam=game['homeTeam']['teamName'], gameTimeLTZ=gameTimeLTZ))"
   ]
  },
  {
   "cell_type": "markdown",
   "metadata": {},
   "source": [
    "## Box Score"
   ]
  },
  {
   "cell_type": "code",
   "execution_count": null,
   "metadata": {},
   "outputs": [],
   "source": [
    "# Get BoxScore\n",
    "from nba_api.live.nba.endpoints import boxscore\n",
    "box = boxscore.BoxScore('0022400333') "
   ]
  },
  {
   "cell_type": "code",
   "execution_count": null,
   "metadata": {},
   "outputs": [],
   "source": [
    "from nba_api.live.nba.endpoints import boxscore\n",
    "# Data Sets\n",
    "last_score = \"\"\n",
    "game_status = 0\n",
    "import time\n",
    "while game_status != 3:\n",
    "    try:\n",
    "        box = boxscore.BoxScore('0022400335') \n",
    "        info = box.game.get_dict()                    #equal to box.get_dict()['game']\n",
    "        with open('boxscore.json', 'w') as f:\n",
    "            f.write(box.get_json())\n",
    "        score = f\"{info['awayTeam']['score']} - {info['homeTeam']['score']}\"\n",
    "        if score != last_score:\n",
    "            last_score = score\n",
    "            print(f\"team {info['awayTeam']['teamName']} vs. {info['homeTeam']['teamName']}\")\n",
    "            print(f\"score: {score}\")\n",
    "        game_status = info['gameStatus']\n",
    "    except Exception as e:\n",
    "        print(f\"Error {e}\")\n",
    "\n",
    "    time.sleep(1)\n",
    "\n",
    "# with open('boxscore.json', 'w') as f:\n",
    "#     f.write(box.get_json())\n",
    "#box.arena.get_dict()                  #equal to box.get_dict()['game']['arena']\n",
    "#box.away_team.get_dict()              #equal to box.get_dict()['game']['awayTeam']\n",
    "#box.away_team_player_stats.get_dict() #equal to box.get_dict()['game']['awayTeam']['players']\n",
    "#box.away_team_stats.get_dict()        #equal to box.get_dict()['game']['homeTeam'] w/o ['players']\n",
    "#box.home_team.get_dict()              #equal to box.get_dict()['game']['homeTeam']\n",
    "#box.home_team_player_stats.get_dict() #equal to box.get_dict()['game']['homeTeam']['players']\n",
    "#box.home_team_stats.get_dict()        #equal to box.get_dict()['game']['homeTeam'] w/o ['players']\n",
    "#box.game_details.get_dict()           #equal to box.get_dict()['game'] scrubbed of all other dictionaries\n",
    "#box.officials.get_dict()              #equal to box.get_dict()['game']['officials']"
   ]
  },
  {
   "cell_type": "code",
   "execution_count": null,
   "metadata": {},
   "outputs": [],
   "source": [
    "# Getting Box Scores. \n",
    "# Note: home_team & away_team have the identicial data structure.\n",
    "players = box.away_team.get_dict()['players']\n",
    "f = \"{player_id}: {name}: {points} PTS\"\n",
    "for player in players:\n",
    "    print(f.format(player_id=player['personId'],name=player['name'],points=player['statistics']['points']))"
   ]
  },
  {
   "cell_type": "markdown",
   "metadata": {},
   "source": [
    "## Play By Play Data"
   ]
  },
  {
   "cell_type": "code",
   "execution_count": null,
   "metadata": {
    "scrolled": true
   },
   "outputs": [],
   "source": [
    "# Query nba.live.endpoints for the score board of GameID 0022000180 = NYK vs BOS\n",
    "# Simple PlayByPlay Loop demonstrating data usage\n",
    "from nba_api.live.nba.endpoints import playbyplay\n",
    "from nba_api.stats.static import players\n",
    "\n",
    "pbp = playbyplay.PlayByPlay('0022000196')\n",
    "line = \"{action_number}: {period}:{clock} {player_id} ({action_type})\"\n",
    "actions = pbp.get_dict()['game']['actions'] #plays are referred to in the live data as `actions`\n",
    "for action in actions:\n",
    "    player_name = ''\n",
    "    player = players.find_player_by_id(action['personId'])\n",
    "    if player is not None:\n",
    "        player_name = player['full_name']\n",
    "    print(line.format(action_number=action['actionNumber'],period=action['period'],clock=action['clock'],action_type=action['actionType'],player_id=player_name))"
   ]
  },
  {
   "cell_type": "code",
   "execution_count": null,
   "metadata": {},
   "outputs": [],
   "source": []
  }
 ],
 "metadata": {
  "kernelspec": {
   "display_name": "base",
   "language": "python",
   "name": "python3"
  },
  "language_info": {
   "codemirror_mode": {
    "name": "ipython",
    "version": 3
   },
   "file_extension": ".py",
   "mimetype": "text/x-python",
   "name": "python",
   "nbconvert_exporter": "python",
   "pygments_lexer": "ipython3",
   "version": "3.12.7"
  }
 },
 "nbformat": 4,
 "nbformat_minor": 4
}
