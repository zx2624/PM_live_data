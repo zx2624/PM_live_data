{
 "cells": [
  {
   "cell_type": "code",
   "execution_count": 1,
   "metadata": {},
   "outputs": [
    {
     "name": "stdout",
     "output_type": "stream",
     "text": [
      "len(events): 20\n",
      "len(events): 1\n"
     ]
    }
   ],
   "source": [
    "from datetime import datetime, timezone\n",
    "from dateutil import parser\n",
    "from nba_api.stats.endpoints import  ScoreboardV2\n",
    "from nba_api.live.nba.endpoints import boxscore\n",
    "from nba_api.stats.static import teams\n",
    "\n",
    "from agents.polymarket.gamma import GammaMarketClient as Gamma\n",
    "import json\n",
    "\n",
    "tag_slug = \"cfb\"\n",
    "game_date = \"2024-12-24\"\n",
    "gamma = Gamma()\n",
    "querystring_params = {\n",
    "    \"limit\": 1000,\n",
    "    \"active\":True,\n",
    "    \"closed\":False,\n",
    "    \"related_tags\":True,\n",
    "    \"tag_slug\":tag_slug\n",
    "    # \"slug\": \"nba-uta-por-2024-12-06\"\n",
    "    # \"tag_id\": \"1,745,100639\"\n",
    "}\n",
    "events = gamma.get_events(querystring_params=querystring_params)\n",
    "print(f\"len(events): {len(events)}\")\n",
    "with open(\"tmp.json\", \"w\") as f:\n",
    "    json.dump(events, f, indent=4)\n",
    "filtered_events = []\n",
    "for event in events:\n",
    "    if \"series\" not in event:\n",
    "        continue\n",
    "    assert len(event[\"series\"]) == 1\n",
    "    if game_date in event[\"slug\"]:\n",
    "        filtered_events.append(event)\n",
    "print(f\"len(events): {len(filtered_events)}\")\n",
    "with open(f\"assets/events_{tag_slug}_{game_date}.json\", \"w\") as f:\n",
    "    json.dump(filtered_events, f, indent=4)\n"
   ]
  },
  {
   "cell_type": "code",
   "execution_count": null,
   "metadata": {},
   "outputs": [],
   "source": [
    "from datetime import datetime, timezone\n",
    "from dateutil import parser\n",
    "from nba_api.stats.endpoints import  ScoreboardV2\n",
    "from nba_api.live.nba.endpoints import boxscore\n",
    "from nba_api.stats.static import teams\n",
    "\n",
    "from agents.polymarket.gamma import GammaMarketClient as Gamma\n",
    "import json\n",
    "\n",
    "slug = \"will-bitcoin-hit-100k-today-12-20-24\"\n",
    "gamma = Gamma()\n",
    "querystring_params = {\n",
    "    \"slug\": slug\n",
    "    # \"tag_id\": \"1,745,100639\"\n",
    "}\n",
    "events = gamma.get_events(querystring_params=querystring_params)\n",
    "print(f\"len(events): {len(events)}\")\n",
    "with open(f\"assets/events_{slug}.json\", \"w\") as f:\n",
    "    json.dump(events, f, indent=4)"
   ]
  },
  {
   "cell_type": "code",
   "execution_count": 3,
   "metadata": {},
   "outputs": [
    {
     "name": "stdout",
     "output_type": "stream",
     "text": [
      "ApiCreds(api_key='395deeda-f895-3649-fe21-97369971889f', api_secret='WcJmdqbBesvNrWbazUMdGE-QuJMa9U6_dCpfp2yXqWk=', api_passphrase='9f0f308938b3d616c7054eeac9e3312d9b28cda09deeb91af468aeb2fa789ff8')\n",
      "balance: 12.720467\n"
     ]
    }
   ],
   "source": [
    "# polymarket\n",
    "from agents.polymarket.polymarket import Polymarket\n",
    "import os\n",
    "from py_clob_client.client import ClobClient\n",
    "from py_clob_client.clob_types import ApiCreds, BalanceAllowanceParams, AssetType\n",
    "from dotenv import load_dotenv\n",
    "\n",
    "host: str = \"https://clob.polymarket.com\"\n",
    "chain_id: int = 137\n",
    "load_dotenv()\n",
    "key = os.getenv(\"POLYGON_WALLET_PRIVATE_KEY\")\n",
    "funder = os.getenv(\"FUNDER\")\n",
    "client = ClobClient(host, key=key, chain_id=chain_id, signature_type=1, funder=funder)  #\n",
    "creds = client.create_or_derive_api_creds()\n",
    "client.set_api_creds(creds)\n",
    "print(creds)\n",
    "balance = client.get_balance_allowance( params=BalanceAllowanceParams(asset_type=AssetType.COLLATERAL))[\"balance\"]\n",
    "balance = float(balance) / 1e6\n",
    "# load csv\n",
    "print(f\"balance: {balance}\")"
   ]
  },
  {
   "cell_type": "code",
   "execution_count": null,
   "metadata": {},
   "outputs": [
    {
     "name": "stdout",
     "output_type": "stream",
     "text": [
      "get tick size cost 5.0067901611328125e-05\n",
      "tick_size: 0.01\n",
      "current price is 0.43, spread is 0.01\n",
      "Im buying 14252397763325507037007038393320469757475573089363437112091707426452796118400 at 0.43 for 29.582481395348836 shares\n"
     ]
    },
    {
     "ename": "PolyApiException",
     "evalue": "PolyApiException[status_code=400, error_message={'error': 'not enough balance / allowance'}]",
     "output_type": "error",
     "traceback": [
      "\u001b[0;31m---------------------------------------------------------------------------\u001b[0m",
      "\u001b[0;31mPolyApiException\u001b[0m                          Traceback (most recent call last)",
      "Cell \u001b[0;32mIn[6], line 15\u001b[0m\n\u001b[1;32m     13\u001b[0m size \u001b[38;5;241m=\u001b[39m balance \u001b[38;5;241m/\u001b[39m price\n\u001b[1;32m     14\u001b[0m \u001b[38;5;28mprint\u001b[39m(\u001b[38;5;124mf\u001b[39m\u001b[38;5;124m\"\u001b[39m\u001b[38;5;124mIm buying \u001b[39m\u001b[38;5;132;01m{\u001b[39;00mtoken\u001b[38;5;132;01m}\u001b[39;00m\u001b[38;5;124m at \u001b[39m\u001b[38;5;132;01m{\u001b[39;00mprice\u001b[38;5;132;01m}\u001b[39;00m\u001b[38;5;124m for \u001b[39m\u001b[38;5;132;01m{\u001b[39;00msize\u001b[38;5;132;01m}\u001b[39;00m\u001b[38;5;124m shares\u001b[39m\u001b[38;5;124m\"\u001b[39m)\n\u001b[0;32m---> 15\u001b[0m res \u001b[38;5;241m=\u001b[39m \u001b[43mclient\u001b[49m\u001b[38;5;241;43m.\u001b[39;49m\u001b[43mcreate_and_post_order\u001b[49m\u001b[43m(\u001b[49m\u001b[43mOrderArgs\u001b[49m\u001b[43m(\u001b[49m\n\u001b[1;32m     16\u001b[0m \u001b[43m    \u001b[49m\u001b[43mprice\u001b[49m\u001b[38;5;241;43m=\u001b[39;49m\u001b[43mprice\u001b[49m\u001b[43m,\u001b[49m\n\u001b[1;32m     17\u001b[0m \u001b[43m    \u001b[49m\u001b[43msize\u001b[49m\u001b[38;5;241;43m=\u001b[39;49m\u001b[43msize\u001b[49m\u001b[43m,\u001b[49m\n\u001b[1;32m     18\u001b[0m \u001b[43m    \u001b[49m\u001b[43mside\u001b[49m\u001b[38;5;241;43m=\u001b[39;49m\u001b[43mBUY\u001b[49m\u001b[43m,\u001b[49m\n\u001b[1;32m     19\u001b[0m \u001b[43m    \u001b[49m\u001b[43mtoken_id\u001b[49m\u001b[38;5;241;43m=\u001b[39;49m\u001b[43mtoken\u001b[49m\n\u001b[1;32m     20\u001b[0m \u001b[43m)\u001b[49m\u001b[43m)\u001b[49m\n\u001b[1;32m     22\u001b[0m \u001b[38;5;66;03m# print(res)\u001b[39;00m\n\u001b[1;32m     23\u001b[0m \u001b[38;5;66;03m# print(res)\u001b[39;00m\n\u001b[1;32m     24\u001b[0m \u001b[38;5;28mprint\u001b[39m(\u001b[38;5;124mf\u001b[39m\u001b[38;5;124m\"\u001b[39m\u001b[38;5;124mprice: \u001b[39m\u001b[38;5;132;01m{\u001b[39;00mprice\u001b[38;5;132;01m}\u001b[39;00m\u001b[38;5;124m size: \u001b[39m\u001b[38;5;132;01m{\u001b[39;00msize\u001b[38;5;132;01m}\u001b[39;00m\u001b[38;5;124m\"\u001b[39m)\n",
      "File \u001b[0;32m~/miniconda3/lib/python3.12/site-packages/py_clob_client/client.py:429\u001b[0m, in \u001b[0;36mClobClient.create_and_post_order\u001b[0;34m(self, order_args, options)\u001b[0m\n\u001b[1;32m    425\u001b[0m \u001b[38;5;250m\u001b[39m\u001b[38;5;124;03m\"\"\"\u001b[39;00m\n\u001b[1;32m    426\u001b[0m \u001b[38;5;124;03mUtility function to create and publish an order\u001b[39;00m\n\u001b[1;32m    427\u001b[0m \u001b[38;5;124;03m\"\"\"\u001b[39;00m\n\u001b[1;32m    428\u001b[0m \u001b[38;5;28mord\u001b[39m \u001b[38;5;241m=\u001b[39m \u001b[38;5;28mself\u001b[39m\u001b[38;5;241m.\u001b[39mcreate_order(order_args, options)\n\u001b[0;32m--> 429\u001b[0m \u001b[38;5;28;01mreturn\u001b[39;00m \u001b[38;5;28;43mself\u001b[39;49m\u001b[38;5;241;43m.\u001b[39;49m\u001b[43mpost_order\u001b[49m\u001b[43m(\u001b[49m\u001b[38;5;28;43mord\u001b[39;49m\u001b[43m)\u001b[49m\n",
      "File \u001b[0;32m~/miniconda3/lib/python3.12/site-packages/py_clob_client/client.py:420\u001b[0m, in \u001b[0;36mClobClient.post_order\u001b[0;34m(self, order, orderType)\u001b[0m\n\u001b[1;32m    414\u001b[0m body \u001b[38;5;241m=\u001b[39m order_to_json(order, \u001b[38;5;28mself\u001b[39m\u001b[38;5;241m.\u001b[39mcreds\u001b[38;5;241m.\u001b[39mapi_key, orderType)\n\u001b[1;32m    415\u001b[0m headers \u001b[38;5;241m=\u001b[39m create_level_2_headers(\n\u001b[1;32m    416\u001b[0m     \u001b[38;5;28mself\u001b[39m\u001b[38;5;241m.\u001b[39msigner,\n\u001b[1;32m    417\u001b[0m     \u001b[38;5;28mself\u001b[39m\u001b[38;5;241m.\u001b[39mcreds,\n\u001b[1;32m    418\u001b[0m     RequestArgs(method\u001b[38;5;241m=\u001b[39m\u001b[38;5;124m\"\u001b[39m\u001b[38;5;124mPOST\u001b[39m\u001b[38;5;124m\"\u001b[39m, request_path\u001b[38;5;241m=\u001b[39mPOST_ORDER, body\u001b[38;5;241m=\u001b[39mbody),\n\u001b[1;32m    419\u001b[0m )\n\u001b[0;32m--> 420\u001b[0m \u001b[38;5;28;01mreturn\u001b[39;00m \u001b[43mpost\u001b[49m\u001b[43m(\u001b[49m\u001b[38;5;124;43m\"\u001b[39;49m\u001b[38;5;132;43;01m{}\u001b[39;49;00m\u001b[38;5;132;43;01m{}\u001b[39;49;00m\u001b[38;5;124;43m\"\u001b[39;49m\u001b[38;5;241;43m.\u001b[39;49m\u001b[43mformat\u001b[49m\u001b[43m(\u001b[49m\u001b[38;5;28;43mself\u001b[39;49m\u001b[38;5;241;43m.\u001b[39;49m\u001b[43mhost\u001b[49m\u001b[43m,\u001b[49m\u001b[43m \u001b[49m\u001b[43mPOST_ORDER\u001b[49m\u001b[43m)\u001b[49m\u001b[43m,\u001b[49m\u001b[43m \u001b[49m\u001b[43mheaders\u001b[49m\u001b[38;5;241;43m=\u001b[39;49m\u001b[43mheaders\u001b[49m\u001b[43m,\u001b[49m\u001b[43m \u001b[49m\u001b[43mdata\u001b[49m\u001b[38;5;241;43m=\u001b[39;49m\u001b[43mbody\u001b[49m\u001b[43m)\u001b[49m\n",
      "File \u001b[0;32m~/miniconda3/lib/python3.12/site-packages/py_clob_client/http_helpers/helpers.py:54\u001b[0m, in \u001b[0;36mpost\u001b[0;34m(endpoint, headers, data)\u001b[0m\n\u001b[1;32m     53\u001b[0m \u001b[38;5;28;01mdef\u001b[39;00m \u001b[38;5;21mpost\u001b[39m(endpoint, headers\u001b[38;5;241m=\u001b[39m\u001b[38;5;28;01mNone\u001b[39;00m, data\u001b[38;5;241m=\u001b[39m\u001b[38;5;28;01mNone\u001b[39;00m):\n\u001b[0;32m---> 54\u001b[0m     \u001b[38;5;28;01mreturn\u001b[39;00m \u001b[43mrequest\u001b[49m\u001b[43m(\u001b[49m\u001b[43mendpoint\u001b[49m\u001b[43m,\u001b[49m\u001b[43m \u001b[49m\u001b[43mPOST\u001b[49m\u001b[43m,\u001b[49m\u001b[43m \u001b[49m\u001b[43mheaders\u001b[49m\u001b[43m,\u001b[49m\u001b[43m \u001b[49m\u001b[43mdata\u001b[49m\u001b[43m)\u001b[49m\n",
      "File \u001b[0;32m~/miniconda3/lib/python3.12/site-packages/py_clob_client/http_helpers/helpers.py:42\u001b[0m, in \u001b[0;36mrequest\u001b[0;34m(endpoint, method, headers, data)\u001b[0m\n\u001b[1;32m     38\u001b[0m resp \u001b[38;5;241m=\u001b[39m requests\u001b[38;5;241m.\u001b[39mrequest(\n\u001b[1;32m     39\u001b[0m     method\u001b[38;5;241m=\u001b[39mmethod, url\u001b[38;5;241m=\u001b[39mendpoint, headers\u001b[38;5;241m=\u001b[39mheaders, json\u001b[38;5;241m=\u001b[39mdata \u001b[38;5;28;01mif\u001b[39;00m data \u001b[38;5;28;01melse\u001b[39;00m \u001b[38;5;28;01mNone\u001b[39;00m\n\u001b[1;32m     40\u001b[0m )\n\u001b[1;32m     41\u001b[0m \u001b[38;5;28;01mif\u001b[39;00m resp\u001b[38;5;241m.\u001b[39mstatus_code \u001b[38;5;241m!=\u001b[39m \u001b[38;5;241m200\u001b[39m:\n\u001b[0;32m---> 42\u001b[0m     \u001b[38;5;28;01mraise\u001b[39;00m PolyApiException(resp)\n\u001b[1;32m     44\u001b[0m \u001b[38;5;28;01mtry\u001b[39;00m:\n\u001b[1;32m     45\u001b[0m     \u001b[38;5;28;01mreturn\u001b[39;00m resp\u001b[38;5;241m.\u001b[39mjson()\n",
      "\u001b[0;31mPolyApiException\u001b[0m: PolyApiException[status_code=400, error_message={'error': 'not enough balance / allowance'}]"
     ]
    }
   ],
   "source": [
    "import time\n",
    "from py_clob_client.clob_types import OrderArgs\n",
    "from py_clob_client.order_builder.constants import BUY, SELL\n",
    "time_now = time.time()\n",
    "token = \"14252397763325507037007038393320469757475573089363437112091707426452796118400\"\n",
    "tick_size = float(client.get_tick_size(token))\n",
    "print(f\"get tick size cost {time.time() - time_now}\")\n",
    "print(f\"tick_size: {tick_size}\")\n",
    "price = float(client.get_price(token, SELL)[\"price\"])\n",
    "price = min(price, 1-tick_size)\n",
    "spread = float(client.get_spread(token)[\"spread\"])\n",
    "\n",
    "print(f\"time taken: {time.time() - time_now}\")\n",
    "order_book = client.get_order_book(token)\n",
    "print(f\"order_book: {order_book}\")"
   ]
  },
  {
   "cell_type": "code",
   "execution_count": null,
   "metadata": {},
   "outputs": [],
   "source": [
    "from tools.utils import get_team_token\n",
    "\n",
    "tag_slug = \"nfl\"\n",
    "game_date = \"2024-12-08\"\n",
    "team_token = get_team_token(game_date=game_date, tag_slug=tag_slug)\n",
    "print(f\"team_token: {team_token}\")\n"
   ]
  },
  {
   "cell_type": "code",
   "execution_count": null,
   "metadata": {},
   "outputs": [],
   "source": [
    "234100 / 234100000"
   ]
  },
  {
   "cell_type": "code",
   "execution_count": null,
   "metadata": {},
   "outputs": [],
   "source": [
    "import datetime\n",
    "time_stamp = 1733548334\n",
    "# to local time\n",
    "local_time = datetime.datetime.fromtimestamp(time_stamp)\n",
    "print(f\"local_time: {local_time}\")\n",
    "# to utc time\n",
    "utc_time = datetime.datetime.utcfromtimestamp(time_stamp)\n",
    "print(f\"utc_time: {utc_time}\")\n",
    "# to american ET time\n",
    "et_time = datetime.datetime.fromtimestamp(time_stamp, tz=timezone.utc).astimezone(timezone(datetime.timedelta(hours=-5)))\n",
    "print(f\"et_time: {et_time}\")\n",
    "\n",
    "time_str = \"2024-12-06 19:00:00\"\n",
    "stamp = datetime.datetime.strptime(time_str, \"%Y-%m-%d %H:%M:%S\").timestamp()\n",
    "print(f\"stamp: {stamp}\")"
   ]
  },
  {
   "cell_type": "code",
   "execution_count": null,
   "metadata": {},
   "outputs": [],
   "source": [
    "from nba_api.stats.endpoints import  ScoreboardV2\n",
    "\n",
    "from nba_api.stats.endpoints import playbyplayv2\n",
    "from nba_api.stats.endpoints import boxscoretraditionalv2\n",
    "\n",
    "\n",
    "game_date = \"2024-11-25\"\n",
    "board = ScoreboardV2(game_date=game_date)\n",
    "data_sets = board.data_sets\n",
    "for i, data_set in enumerate(data_sets):\n",
    "    df = data_set.get_data_frame()\n",
    "    if \"GAME_ID\" in df.columns and \"HOME_TEAM_ID\" in df.columns:\n",
    "        game_ids = df[\"GAME_ID\"].values\n",
    "        for game_id in game_ids:\n",
    "            if \"339\" not in str(game_id):\n",
    "                continue\n",
    "            # Query for games where the Celtics were playing\n",
    "            print(f\"game_id: {game_id}\")\n",
    "\n",
    "            # 获取比赛逐回合数据\n",
    "            play_by_play = playbyplayv2.PlayByPlayV2(game_id=game_id)\n",
    "            data = play_by_play.get_data_frames()[0]  # 返回DataFrame格式数据\n",
    "            data.to_csv(f\"play_by_play_{game_id}.csv\", index=False)\n",
    "            box_score =  boxscoretraditionalv2.BoxScoreTraditionalV2(game_id=game_id)\n",
    "            for data_set in box_score.data_sets:\n",
    "                df = data_set.get_data_frame()\n",
    "                df.to_csv(f\"box_score_{game_id}.csv\", index=False)\n",
    "\n",
    "\n",
    "            "
   ]
  },
  {
   "cell_type": "code",
   "execution_count": null,
   "metadata": {},
   "outputs": [],
   "source": [
    "import requests\n",
    "import json\n",
    "\n",
    "# 定义 GraphQL 查询\n",
    "query = \"\"\"\n",
    "{\n",
    "  orderFilledEvents(\n",
    "    where: { makerAssetId: \"84472013145774660380603252188679283514256956886017890103299178370217717606440\" }\n",
    "    orderBy: timestamp\n",
    "    orderDirection: desc\n",
    "    first:500\n",
    "  ) {\n",
    "    id\n",
    "    transactionHash\n",
    "    timestamp\n",
    "    maker {\n",
    "      id\n",
    "    }\n",
    "    taker {\n",
    "      id\n",
    "    }\n",
    "    makerAmountFilled\n",
    "    takerAmountFilled\n",
    "    fee\n",
    "  }\n",
    "}\n",
    "\"\"\"\n",
    "\n",
    "# 设置 GraphQL 端点 URL\n",
    "url = \"https://api.goldsky.com/api/public/project_cl6mb8i9h0003e201j6li0diw/subgraphs/polymarket-orderbook-resync/prod/gn\"\n",
    "\n",
    "# 发送请求\n",
    "response = requests.post(url, json={'query': query})\n",
    "\n",
    "# 获取并打印响应数据\n",
    "data = response.json()\n",
    "print(len(data))\n",
    "with open(\"order_filled_event.json\", \"w\") as f:\n",
    "    json.dump(data, f, indent=4)"
   ]
  },
  {
   "cell_type": "code",
   "execution_count": null,
   "metadata": {},
   "outputs": [],
   "source": [
    "# check flip\n",
    "from tools.utils import check_flip, get_time_played\n",
    "import time\n",
    "time_str = \"Q4 :13\"\n",
    "time_played = get_time_played(time_str)\n",
    "print(f\"time_played: {time_played}\")\n",
    "time_now = time.time()\n",
    "flip_rate = check_flip(time_played, 5)\n",
    "print(f\"flip_rate: {flip_rate} time_taken: {time.time() - time_now}\")"
   ]
  },
  {
   "cell_type": "code",
   "execution_count": null,
   "metadata": {},
   "outputs": [],
   "source": [
    "from tools.utils import df\n",
    "import logging\n",
    "logging.basicConfig(level=logging.INFO)\n",
    "gamids = df[\"GAME_ID\"].values\n",
    "print(len(gamids))\n",
    "print(len(set(gamids)))"
   ]
  },
  {
   "cell_type": "code",
   "execution_count": 9,
   "metadata": {},
   "outputs": [],
   "source": [
    "time_price = [\n",
    "    (1.00011, 0.09999),\n",
    "    (1.00011, 0.09998),\n",
    "]\n",
    "with open(f\"assets/prices/t_t\", \"w\") as f:\n",
    "    for time_stamp, price in time_price:\n",
    "        f.write(f\"{time_stamp} {price:.6}\\n\")"
   ]
  },
  {
   "cell_type": "code",
   "execution_count": null,
   "metadata": {},
   "outputs": [],
   "source": [
    "from datetime import datetime\n",
    "import pytz\n",
    "\n",
    "# UTC 时间\n",
    "utc_time = \"2024-12-22 18:00:00+00\"\n",
    "\n",
    "# 转换为 datetime 对象\n",
    "utc_time_obj = datetime.fromisoformat(utc_time)\n",
    "\n",
    "# 本地时区（自动根据系统时区）\n",
    "local_time = utc_time_obj.astimezone()\n",
    "\n",
    "print(\"本地时间:\", local_time)\n"
   ]
  },
  {
   "cell_type": "code",
   "execution_count": 4,
   "metadata": {},
   "outputs": [
    {
     "name": "stdout",
     "output_type": "stream",
     "text": [
      "hello\n"
     ]
    }
   ],
   "source": [
    "for _ in range(1):\n",
    "    print(\"hello\")"
   ]
  }
 ],
 "metadata": {
  "kernelspec": {
   "display_name": "base",
   "language": "python",
   "name": "python3"
  },
  "language_info": {
   "codemirror_mode": {
    "name": "ipython",
    "version": 3
   },
   "file_extension": ".py",
   "mimetype": "text/x-python",
   "name": "python",
   "nbconvert_exporter": "python",
   "pygments_lexer": "ipython3",
   "version": "3.12.7"
  }
 },
 "nbformat": 4,
 "nbformat_minor": 2
}
