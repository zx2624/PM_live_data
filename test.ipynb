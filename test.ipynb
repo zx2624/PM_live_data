{
 "cells": [
  {
   "cell_type": "code",
   "execution_count": null,
   "metadata": {},
   "outputs": [],
   "source": [
    "from dotenv import load_dotenv\n",
    "import os\n",
    "from py_clob_client.client import ClobClient\n",
    "from py_clob_client.clob_types import (\n",
    "    AssetType,\n",
    "    BalanceAllowanceParams,\n",
    "    MarketOrderArgs,\n",
    "    OrderArgs,\n",
    "    OrderType,\n",
    ")\n",
    "host: str = \"https://clob.polymarket.com\"\n",
    "chain_id: int = 137\n",
    "load_dotenv()\n",
    "key = os.getenv(\"POLYGON_WALLET_PRIVATE_KEY\")\n",
    "funder = os.getenv(\"FUNDER\")\n",
    "client = ClobClient(\n",
    "    host, key=key, chain_id=chain_id, signature_type=1, funder=funder\n",
    ")  #\n",
    "creds = client.create_or_derive_api_creds()\n",
    "client.set_api_creds(creds)\n",
    "balance = client.get_balance_allowance(\n",
    "    params=BalanceAllowanceParams(asset_type=AssetType.COLLATERAL)\n",
    ")\n",
    "print(balance)\n"
   ]
  },
  {
   "cell_type": "code",
   "execution_count": null,
   "metadata": {},
   "outputs": [],
   "source": [
    "from datetime import datetime, timezone\n",
    "from dateutil import parser\n",
    "from nba_api.stats.endpoints import  ScoreboardV2\n",
    "from nba_api.live.nba.endpoints import boxscore\n",
    "from nba_api.stats.static import teams\n",
    "\n",
    "from agents.polymarket.gamma import GammaMarketClient as Gamma\n",
    "import json\n",
    "\n",
    "tag_slug = \"cfb\"\n",
    "game_date = \"2024-12-24\"\n",
    "gamma = Gamma()\n",
    "querystring_params = {\n",
    "    \"limit\": 1000,\n",
    "    \"active\":True,\n",
    "    \"closed\":False,\n",
    "    \"related_tags\":True,\n",
    "    \"tag_slug\":tag_slug\n",
    "    # \"slug\": \"nba-uta-por-2024-12-06\"\n",
    "    # \"tag_id\": \"1,745,100639\"\n",
    "}\n",
    "events = gamma.get_events(querystring_params=querystring_params)\n",
    "print(f\"len(events): {len(events)}\")\n",
    "with open(\"tmp.json\", \"w\") as f:\n",
    "    json.dump(events, f, indent=4)\n",
    "filtered_events = []\n",
    "for event in events:\n",
    "    if \"series\" not in event:\n",
    "        continue\n",
    "    assert len(event[\"series\"]) == 1\n",
    "    if game_date in event[\"slug\"]:\n",
    "        filtered_events.append(event)\n",
    "print(f\"len(events): {len(filtered_events)}\")\n",
    "with open(f\"assets/events_{tag_slug}_{game_date}.json\", \"w\") as f:\n",
    "    json.dump(filtered_events, f, indent=4)\n"
   ]
  },
  {
   "cell_type": "code",
   "execution_count": null,
   "metadata": {},
   "outputs": [],
   "source": [
    "from datetime import datetime, timezone\n",
    "from dateutil import parser\n",
    "from nba_api.stats.endpoints import  ScoreboardV2\n",
    "from nba_api.live.nba.endpoints import boxscore\n",
    "from nba_api.stats.static import teams\n",
    "\n",
    "from agents.polymarket.gamma import GammaMarketClient as Gamma\n",
    "import json\n",
    "\n",
    "slug = \"will-bitcoin-hit-100k-today-12-20-24\"\n",
    "gamma = Gamma()\n",
    "querystring_params = {\n",
    "    \"slug\": slug\n",
    "    # \"tag_id\": \"1,745,100639\"\n",
    "}\n",
    "events = gamma.get_events(querystring_params=querystring_params)\n",
    "print(f\"len(events): {len(events)}\")\n",
    "with open(f\"assets/events_{slug}.json\", \"w\") as f:\n",
    "    json.dump(events, f, indent=4)"
   ]
  },
  {
   "cell_type": "code",
   "execution_count": null,
   "metadata": {},
   "outputs": [],
   "source": [
    "# trades\n",
    "from tools.utils import client\n",
    "import json\n",
    "import time\n",
    "from py_clob_client.clob_types import ApiCreds, OrderScoringParams, TradeParams\n",
    "time_now = int(time.time())\n",
    "time_24h = time_now - 30*60*60\n",
    "print(f\"time_now: {time_now}, time_24h: {time_24h}\")\n",
    "params = TradeParams(\n",
    "    before=time_now,\n",
    "    after=time_24h,\n",
    ")\n",
    "trades = client.get_trades(params=params)\n",
    "print(len(trades))\n",
    "with open(\"scoring.json\", \"w\") as f:\n",
    "    f.write(json.dumps(trades))"
   ]
  },
  {
   "cell_type": "code",
   "execution_count": null,
   "metadata": {},
   "outputs": [],
   "source": [
    "# market\n",
    "from tools.utils import client\n",
    "\n",
    "market = client.get_market(condition_id=\"0x5d899f726697759c9aefbc5201022857c360dec910c9b12d449cfd57c575458c\")\n",
    "print(market)"
   ]
  },
  {
   "cell_type": "code",
   "execution_count": null,
   "metadata": {},
   "outputs": [],
   "source": [
    "# notifications\n",
    "from tools.utils import client\n",
    "import json\n",
    "# collateral_address = client.get_collateral_address()\n",
    "# exchange_address = client.get_exchange_address()\n",
    "# conditional_address = client.get_conditional_address()\n",
    "# address = client.get_address()\n",
    "# print(f\"collateral_address: {collateral_address}\")\n",
    "# print(f\"exchange_address: {exchange_address}\")\n",
    "# print(f\"conditional_address: {conditional_address}\")\n",
    "# print(f\"address: {address}\")\n",
    "notifications = client.get_notifications()\n",
    "print(notifications)\n",
    "\n",
    "with open(\"notifications.json\", \"w\") as f:\n",
    "    f.write(json.dumps(notifications, indent=4))"
   ]
  },
  {
   "cell_type": "code",
   "execution_count": null,
   "metadata": {},
   "outputs": [],
   "source": [
    "# price\n",
    "from tools.utils import client, calculate_buy_market_price\n",
    "token = \"17331294850529461704424063677771092246911677503620864091153247176478669086283\"\n",
    "balance = 300\n",
    "orderbook = client.get_order_book(token)\n",
    "price = calculate_buy_market_price(orderbook, balance)\n",
    "print(price)\n"
   ]
  },
  {
   "cell_type": "code",
   "execution_count": null,
   "metadata": {},
   "outputs": [],
   "source": [
    "# polymarket\n",
    "from agents.polymarket.polymarket import Polymarket\n",
    "import os\n",
    "from py_clob_client.client import ClobClient\n",
    "from py_clob_client.clob_types import ApiCreds, BalanceAllowanceParams, AssetType\n",
    "from dotenv import load_dotenv\n",
    "\n",
    "host: str = \"https://clob.polymarket.com\"\n",
    "chain_id: int = 137\n",
    "load_dotenv()\n",
    "key = os.getenv(\"POLYGON_WALLET_PRIVATE_KEY\")\n",
    "funder = os.getenv(\"FUNDER\")\n",
    "client = ClobClient(host, key=key, chain_id=chain_id, signature_type=1, funder=funder)  #\n",
    "creds = client.create_or_derive_api_creds()\n",
    "client.set_api_creds(creds)\n",
    "print(creds)\n",
    "balance = client.get_balance_allowance( params=BalanceAllowanceParams(asset_type=AssetType.COLLATERAL))[\"balance\"]\n",
    "balance = float(balance) / 1e6\n",
    "# load csv\n",
    "print(f\"balance: {balance}\")"
   ]
  },
  {
   "cell_type": "code",
   "execution_count": null,
   "metadata": {},
   "outputs": [],
   "source": [
    "# sell\n",
    "from tools.utils import client, sell_with_market_price, get_team_token\n",
    "from py_clob_client.clob_types import MarketOrderArgs, OrderType\n",
    "from py_clob_client.order_builder.constants import SELL\n",
    "# game_date = \"2025-02-08\"\n",
    "# team_token = get_team_token(game_date, \"nba\")\n",
    "# print(f\"team_token: {team_token}\")\n",
    "sell_with_market_price(\"37195019279800556593829394936124589940378053324013574598094803830595267856452\", 10)"
   ]
  },
  {
   "cell_type": "code",
   "execution_count": null,
   "metadata": {},
   "outputs": [],
   "source": [
    "# order\n",
    "from tools.utils import client\n",
    "order_id = \"0x01741c9e8a396f003ad4ed76c6268625699c40081ad732963363a71154d8bf34\"\n",
    "order = client.get_order(order_id)\n",
    "print(order)"
   ]
  },
  {
   "cell_type": "code",
   "execution_count": 6,
   "metadata": {},
   "outputs": [
    {
     "name": "stdout",
     "output_type": "stream",
     "text": [
      "2025-02-13 21:58:58,583 - utils.py[line:299] - INFO: tick_size is 0.01\n",
      "2025-02-13 21:58:58,584 - utils.py[line:301] - INFO: Im buying 17331294850529461704424063677771092246911677503620864091153247176478669086283 at 0.01 for 100.0 shares\n",
      "2025-02-13 21:58:59,051 - utils.py[line:314] - INFO: 17331294850529461704424063677771092246911677503620864091153247176478669086283 post_order res: {'errorMsg': '', 'orderID': '0x1b19b468aa094b5f915135c0a727a03c7d18092037d160c808c48c17ac205451', 'takingAmount': '', 'makingAmount': '', 'status': 'live', 'transactionsHashes': None, 'success': True}\n",
      "2025-02-13 21:58:59,052 - utils.py[line:315] - INFO: 17331294850529461704424063677771092246911677503620864091153247176478669086283 order_book: OrderBookSummary(market='0x23ec92ce9262cfa4bfaf9bafb8d4696fa528ef2e8950b35300d5f6f41a95a399', asset_id='17331294850529461704424063677771092246911677503620864091153247176478669086283', timestamp='1739455137519', bids=[OrderSummary(price='0.01', size='57070'), OrderSummary(price='0.02', size='10000'), OrderSummary(price='0.03', size='6667'), OrderSummary(price='0.04', size='7777'), OrderSummary(price='0.05', size='5000'), OrderSummary(price='0.1', size='15'), OrderSummary(price='0.23', size='1000'), OrderSummary(price='0.25', size='400'), OrderSummary(price='0.26', size='19.23'), OrderSummary(price='0.34', size='215'), OrderSummary(price='0.35', size='800'), OrderSummary(price='0.37', size='200'), OrderSummary(price='0.42', size='700'), OrderSummary(price='0.43', size='11.62'), OrderSummary(price='0.48', size='15'), OrderSummary(price='0.56', size='40'), OrderSummary(price='0.57', size='20'), OrderSummary(price='0.61', size='5'), OrderSummary(price='0.62', size='5'), OrderSummary(price='0.63', size='5'), OrderSummary(price='0.64', size='258'), OrderSummary(price='0.65', size='348'), OrderSummary(price='0.66', size='1516'), OrderSummary(price='0.67', size='4886.73'), OrderSummary(price='0.68', size='11983.89'), OrderSummary(price='0.69', size='4001.66')], asks=[OrderSummary(price='0.99', size='57055'), OrderSummary(price='0.97', size='6667'), OrderSummary(price='0.96', size='7777'), OrderSummary(price='0.95', size='5000'), OrderSummary(price='0.94', size='1667'), OrderSummary(price='0.89', size='1111'), OrderSummary(price='0.87', size='1000'), OrderSummary(price='0.86', size='35.71'), OrderSummary(price='0.85', size='667'), OrderSummary(price='0.84', size='1800'), OrderSummary(price='0.83', size='29.41'), OrderSummary(price='0.77', size='100'), OrderSummary(price='0.76', size='5'), OrderSummary(price='0.74', size='400'), OrderSummary(price='0.73', size='550.6'), OrderSummary(price='0.72', size='2759'), OrderSummary(price='0.71', size='2978.17'), OrderSummary(price='0.7', size='7502.38')], hash='59189b0f0c4c1173cdde1d9c62d9ed889929f539')\n",
      "2025-02-13 21:59:09,517 - utils.py[line:337] - INFO: 17331294850529461704424063677771092246911677503620864091153247176478669086283 order still open with {'id': '0x1b19b468aa094b5f915135c0a727a03c7d18092037d160c808c48c17ac205451', 'status': 'LIVE', 'owner': '395deeda-f895-3649-fe21-97369971889f', 'maker_address': '0xa06CA3993e39Dd1c497BDb38C870511416b475DD', 'market': '0x23ec92ce9262cfa4bfaf9bafb8d4696fa528ef2e8950b35300d5f6f41a95a399', 'asset_id': '17331294850529461704424063677771092246911677503620864091153247176478669086283', 'side': 'BUY', 'original_size': '100', 'size_matched': '0', 'price': '0.01', 'outcome': 'Rockets', 'expiration': '1739455218', 'order_type': 'GTD', 'associate_trades': [], 'created_at': 1739455139}\n",
      "2025-02-13 21:59:10,613 - utils.py[line:337] - INFO: 17331294850529461704424063677771092246911677503620864091153247176478669086283 order still open with {'id': '0x1b19b468aa094b5f915135c0a727a03c7d18092037d160c808c48c17ac205451', 'status': 'LIVE', 'owner': '395deeda-f895-3649-fe21-97369971889f', 'maker_address': '0xa06CA3993e39Dd1c497BDb38C870511416b475DD', 'market': '0x23ec92ce9262cfa4bfaf9bafb8d4696fa528ef2e8950b35300d5f6f41a95a399', 'asset_id': '17331294850529461704424063677771092246911677503620864091153247176478669086283', 'side': 'BUY', 'original_size': '100', 'size_matched': '0', 'price': '0.01', 'outcome': 'Rockets', 'expiration': '1739455218', 'order_type': 'GTD', 'associate_trades': [], 'created_at': 1739455139}\n",
      "2025-02-13 21:59:11,583 - utils.py[line:337] - INFO: 17331294850529461704424063677771092246911677503620864091153247176478669086283 order still open with {'id': '0x1b19b468aa094b5f915135c0a727a03c7d18092037d160c808c48c17ac205451', 'status': 'LIVE', 'owner': '395deeda-f895-3649-fe21-97369971889f', 'maker_address': '0xa06CA3993e39Dd1c497BDb38C870511416b475DD', 'market': '0x23ec92ce9262cfa4bfaf9bafb8d4696fa528ef2e8950b35300d5f6f41a95a399', 'asset_id': '17331294850529461704424063677771092246911677503620864091153247176478669086283', 'side': 'BUY', 'original_size': '100', 'size_matched': '0', 'price': '0.01', 'outcome': 'Rockets', 'expiration': '1739455218', 'order_type': 'GTD', 'associate_trades': [], 'created_at': 1739455139}\n",
      "2025-02-13 21:59:12,689 - utils.py[line:337] - INFO: 17331294850529461704424063677771092246911677503620864091153247176478669086283 order still open with {'id': '0x1b19b468aa094b5f915135c0a727a03c7d18092037d160c808c48c17ac205451', 'status': 'LIVE', 'owner': '395deeda-f895-3649-fe21-97369971889f', 'maker_address': '0xa06CA3993e39Dd1c497BDb38C870511416b475DD', 'market': '0x23ec92ce9262cfa4bfaf9bafb8d4696fa528ef2e8950b35300d5f6f41a95a399', 'asset_id': '17331294850529461704424063677771092246911677503620864091153247176478669086283', 'side': 'BUY', 'original_size': '100', 'size_matched': '0', 'price': '0.01', 'outcome': 'Rockets', 'expiration': '1739455218', 'order_type': 'GTD', 'associate_trades': [], 'created_at': 1739455139}\n",
      "2025-02-13 21:59:14,086 - utils.py[line:337] - INFO: 17331294850529461704424063677771092246911677503620864091153247176478669086283 order still open with {'id': '0x1b19b468aa094b5f915135c0a727a03c7d18092037d160c808c48c17ac205451', 'status': 'LIVE', 'owner': '395deeda-f895-3649-fe21-97369971889f', 'maker_address': '0xa06CA3993e39Dd1c497BDb38C870511416b475DD', 'market': '0x23ec92ce9262cfa4bfaf9bafb8d4696fa528ef2e8950b35300d5f6f41a95a399', 'asset_id': '17331294850529461704424063677771092246911677503620864091153247176478669086283', 'side': 'BUY', 'original_size': '100', 'size_matched': '0', 'price': '0.01', 'outcome': 'Rockets', 'expiration': '1739455218', 'order_type': 'GTD', 'associate_trades': [], 'created_at': 1739455139}\n",
      "2025-02-13 21:59:15,063 - utils.py[line:337] - INFO: 17331294850529461704424063677771092246911677503620864091153247176478669086283 order still open with {'id': '0x1b19b468aa094b5f915135c0a727a03c7d18092037d160c808c48c17ac205451', 'status': 'LIVE', 'owner': '395deeda-f895-3649-fe21-97369971889f', 'maker_address': '0xa06CA3993e39Dd1c497BDb38C870511416b475DD', 'market': '0x23ec92ce9262cfa4bfaf9bafb8d4696fa528ef2e8950b35300d5f6f41a95a399', 'asset_id': '17331294850529461704424063677771092246911677503620864091153247176478669086283', 'side': 'BUY', 'original_size': '100', 'size_matched': '0', 'price': '0.01', 'outcome': 'Rockets', 'expiration': '1739455218', 'order_type': 'GTD', 'associate_trades': [], 'created_at': 1739455139}\n",
      "2025-02-13 21:59:16,132 - utils.py[line:337] - INFO: 17331294850529461704424063677771092246911677503620864091153247176478669086283 order still open with {'id': '0x1b19b468aa094b5f915135c0a727a03c7d18092037d160c808c48c17ac205451', 'status': 'LIVE', 'owner': '395deeda-f895-3649-fe21-97369971889f', 'maker_address': '0xa06CA3993e39Dd1c497BDb38C870511416b475DD', 'market': '0x23ec92ce9262cfa4bfaf9bafb8d4696fa528ef2e8950b35300d5f6f41a95a399', 'asset_id': '17331294850529461704424063677771092246911677503620864091153247176478669086283', 'side': 'BUY', 'original_size': '100', 'size_matched': '0', 'price': '0.01', 'outcome': 'Rockets', 'expiration': '1739455218', 'order_type': 'GTD', 'associate_trades': [], 'created_at': 1739455139}\n",
      "2025-02-13 21:59:17,234 - utils.py[line:337] - INFO: 17331294850529461704424063677771092246911677503620864091153247176478669086283 order still open with {'id': '0x1b19b468aa094b5f915135c0a727a03c7d18092037d160c808c48c17ac205451', 'status': 'LIVE', 'owner': '395deeda-f895-3649-fe21-97369971889f', 'maker_address': '0xa06CA3993e39Dd1c497BDb38C870511416b475DD', 'market': '0x23ec92ce9262cfa4bfaf9bafb8d4696fa528ef2e8950b35300d5f6f41a95a399', 'asset_id': '17331294850529461704424063677771092246911677503620864091153247176478669086283', 'side': 'BUY', 'original_size': '100', 'size_matched': '0', 'price': '0.01', 'outcome': 'Rockets', 'expiration': '1739455218', 'order_type': 'GTD', 'associate_trades': [], 'created_at': 1739455139}\n",
      "2025-02-13 21:59:18,442 - utils.py[line:339] - INFO: 17331294850529461704424063677771092246911677503620864091153247176478669086283 order_res: {'id': '0x1b19b468aa094b5f915135c0a727a03c7d18092037d160c808c48c17ac205451', 'status': 'CANCELED', 'owner': '395deeda-f895-3649-fe21-97369971889f', 'maker_address': '0xa06CA3993e39Dd1c497BDb38C870511416b475DD', 'market': '0x23ec92ce9262cfa4bfaf9bafb8d4696fa528ef2e8950b35300d5f6f41a95a399', 'asset_id': '17331294850529461704424063677771092246911677503620864091153247176478669086283', 'side': 'BUY', 'original_size': '100', 'size_matched': '0', 'price': '0.01', 'outcome': 'Rockets', 'expiration': '1739455218', 'order_type': 'GTD', 'associate_trades': [], 'created_at': 1739455139}\n"
     ]
    },
    {
     "data": {
      "text/plain": [
       "(True, [0.01], 0.0)"
      ]
     },
     "execution_count": 6,
     "metadata": {},
     "output_type": "execute_result"
    }
   ],
   "source": [
    "# buy in\n",
    "from tools.utils import buy_in\n",
    "token = \"17331294850529461704424063677771092246911677503620864091153247176478669086283\"\n",
    "buy_price = 0.01\n",
    "price_th = 0.\n",
    "buy_balance = 1\n",
    "buy_in(\n",
    "    tokens=[token],\n",
    "    buy_price=buy_price,\n",
    "    price_threshold=price_th,\n",
    "    buy_balance=buy_balance\n",
    ")"
   ]
  },
  {
   "cell_type": "code",
   "execution_count": null,
   "metadata": {},
   "outputs": [],
   "source": [
    "import time\n",
    "from py_clob_client.clob_types import OrderArgs\n",
    "from py_clob_client.order_builder.constants import BUY, SELL\n",
    "from tools.utils import client\n",
    "time_now = time.time()\n",
    "# token = \"6322414904707232355835340454691756227049555392823461747958280939481095637773\"\n",
    "\n",
    "# res = client.create_and_post_order(OrderArgs(token_id=token, side=SELL, price=0.999, size=9.527384595959596))\n",
    "# print(res)\n",
    "# orderid = \"0x66c08ebbb6389f75d495fc36c92c811493c750aae3971082d60887ff546bfd88\"\n",
    "# time_now = time.time()\n",
    "# while True:\n",
    "#     order = client.get_order(orderid)\n",
    "#     if order:\n",
    "#         print(f\"order: {order}\")\n",
    "#         break\n",
    "# print(f\"get order cost {time.time() - time_now}\")\n",
    "# tick_size = float(client.get_tick_size(token))\n",
    "# print(f\"get tick size cost {time.time() - time_now}\")\n",
    "# print(f\"tick_size: {tick_size}\")\n",
    "# price = float(client.get_price(token, SELL)[\"price\"])\n",
    "# price = min(price, 1-tick_size)\n",
    "# spread = float(client.get_spread(token)[\"spread\"])\n",
    "\n",
    "# print(f\"time taken: {time.time() - time_now}\")\n",
    "# order_book = client.get_order_book(token)\n",
    "# print(f\"order_book: {order_book}\")"
   ]
  },
  {
   "cell_type": "code",
   "execution_count": null,
   "metadata": {},
   "outputs": [],
   "source": [
    "from tools.utils import get_team_token\n",
    "\n",
    "tag_slug = \"nfl\"\n",
    "game_date = \"2024-12-08\"\n",
    "team_token = get_team_token(game_date=game_date, tag_slug=tag_slug)\n",
    "print(f\"team_token: {team_token}\")\n"
   ]
  },
  {
   "cell_type": "code",
   "execution_count": null,
   "metadata": {},
   "outputs": [],
   "source": [
    "234100 / 234100000"
   ]
  },
  {
   "cell_type": "code",
   "execution_count": null,
   "metadata": {},
   "outputs": [],
   "source": [
    "import datetime\n",
    "time_stamp = 1733548334\n",
    "# to local time\n",
    "local_time = datetime.datetime.fromtimestamp(time_stamp)\n",
    "print(f\"local_time: {local_time}\")\n",
    "# to utc time\n",
    "utc_time = datetime.datetime.utcfromtimestamp(time_stamp)\n",
    "print(f\"utc_time: {utc_time}\")\n",
    "# to american ET time\n",
    "et_time = datetime.datetime.fromtimestamp(time_stamp, tz=timezone.utc).astimezone(timezone(datetime.timedelta(hours=-5)))\n",
    "print(f\"et_time: {et_time}\")\n",
    "\n",
    "time_str = \"2024-12-06 19:00:00\"\n",
    "stamp = datetime.datetime.strptime(time_str, \"%Y-%m-%d %H:%M:%S\").timestamp()\n",
    "print(f\"stamp: {stamp}\")"
   ]
  },
  {
   "cell_type": "code",
   "execution_count": null,
   "metadata": {},
   "outputs": [],
   "source": [
    "from nba_api.stats.endpoints import  ScoreboardV2\n",
    "\n",
    "from nba_api.stats.endpoints import playbyplayv2\n",
    "from nba_api.stats.endpoints import boxscoretraditionalv2\n",
    "play_by_play = playbyplayv2.PlayByPlayV2(game_id=\"0022400589\")\n",
    "print(play_by_play)\n",
    "data = play_by_play.get_dict()  # 返回字典格式数据\n",
    "df= play_by_play.get_data_frames()[0]  # 返回DataFrame格式数据\n",
    "print(data.keys())\n",
    "print(df.cols)\n",
    "# game_date = \"2024-11-25\"\n",
    "# board = ScoreboardV2(game_date=game_date)\n",
    "# data_sets = board.data_sets\n",
    "# for i, data_set in enumerate(data_sets):\n",
    "#     df = data_set.get_data_frame()\n",
    "#     if \"GAME_ID\" in df.columns and \"HOME_TEAM_ID\" in df.columns:\n",
    "#         game_ids = df[\"GAME_ID\"].values\n",
    "#         for game_id in game_ids:\n",
    "#             if \"339\" not in str(game_id):\n",
    "#                 continue\n",
    "#             # Query for games where the Celtics were playing\n",
    "#             print(f\"game_id: {game_id}\")\n",
    "\n",
    "#             # 获取比赛逐回合数据\n",
    "#             play_by_play = playbyplayv2.PlayByPlayV2(game_id=game_id)\n",
    "#             data = play_by_play.get_data_frames()[0]  # 返回DataFrame格式数据\n",
    "#             data.to_csv(f\"play_by_play_{game_id}.csv\", index=False)\n",
    "#             box_score =  boxscoretraditionalv2.BoxScoreTraditionalV2(game_id=game_id)\n",
    "#             for data_set in box_score.data_sets:\n",
    "#                 df = data_set.get_data_frame()\n",
    "#                 df.to_csv(f\"box_score_{game_id}.csv\", index=False)\n",
    "\n",
    "\n",
    "            "
   ]
  },
  {
   "cell_type": "code",
   "execution_count": null,
   "metadata": {},
   "outputs": [],
   "source": [
    "import requests\n",
    "import json\n",
    "\n",
    "# 定义 GraphQL 查询\n",
    "query = \"\"\"\n",
    "{\n",
    "  orderFilledEvents(\n",
    "    where: { makerAssetId: \"84472013145774660380603252188679283514256956886017890103299178370217717606440\" }\n",
    "    orderBy: timestamp\n",
    "    orderDirection: desc\n",
    "    first:500\n",
    "  ) {\n",
    "    id\n",
    "    transactionHash\n",
    "    timestamp\n",
    "    maker {\n",
    "      id\n",
    "    }\n",
    "    taker {\n",
    "      id\n",
    "    }\n",
    "    makerAmountFilled\n",
    "    takerAmountFilled\n",
    "    fee\n",
    "  }\n",
    "}\n",
    "\"\"\"\n",
    "\n",
    "# 设置 GraphQL 端点 URL\n",
    "url = \"https://api.goldsky.com/api/public/project_cl6mb8i9h0003e201j6li0diw/subgraphs/polymarket-orderbook-resync/prod/gn\"\n",
    "\n",
    "# 发送请求\n",
    "response = requests.post(url, json={'query': query})\n",
    "\n",
    "# 获取并打印响应数据\n",
    "data = response.json()\n",
    "print(len(data))\n",
    "with open(\"order_filled_event.json\", \"w\") as f:\n",
    "    json.dump(data, f, indent=4)"
   ]
  },
  {
   "cell_type": "code",
   "execution_count": null,
   "metadata": {},
   "outputs": [],
   "source": [
    "# check flip\n",
    "from tools.utils import check_flip, get_time_played\n",
    "import time\n",
    "import logging\n",
    "logging.basicConfig(level=logging.INFO)\n",
    "time_str = \"Q4 :10.7\"\n",
    "score_diff = 11\n",
    "time_played = get_time_played(time_str)\n",
    "print(f\"time_played: {time_played}\")\n",
    "time_now = time.time()\n",
    "flip_rate = check_flip(time_played, score_diff)\n",
    "print(f\"flip_rate: {flip_rate} time_taken: {time.time() - time_now}\")"
   ]
  },
  {
   "cell_type": "code",
   "execution_count": null,
   "metadata": {},
   "outputs": [],
   "source": [
    "import pandas as pd\n",
    "from pathlib import Path\n",
    "csv_path = Path(\"/home/zx/code/nba_api/assets/fromq3\")\n",
    "csv_files = list(csv_path.glob(\"*.csv\"))\n",
    "df = pd.concat([pd.read_csv(file) for file in csv_files])\n",
    "game_ids = df[\"GAME_ID\"].unique()\n",
    "print(f\"len(game_ids): {len(game_ids)}\")\n",
    "game_ids = df[\"GAME_ID\"].values\n",
    "print(f\"len(game_ids): {len(game_ids)}\")"
   ]
  },
  {
   "cell_type": "code",
   "execution_count": null,
   "metadata": {},
   "outputs": [],
   "source": [
    "from tools.utils import df\n",
    "import logging\n",
    "logging.basicConfig(level=logging.INFO)\n",
    "gamids = df[\"GAME_ID\"].values\n",
    "print(len(gamids))\n",
    "print(len(set(gamids)))"
   ]
  },
  {
   "cell_type": "code",
   "execution_count": null,
   "metadata": {},
   "outputs": [],
   "source": [
    "time_price = [\n",
    "    (1.00011, 0.09999),\n",
    "    (1.00011, 0.09998),\n",
    "]\n",
    "with open(f\"assets/prices/t_t\", \"w\") as f:\n",
    "    for time_stamp, price in time_price:\n",
    "        f.write(f\"{time_stamp} {price:.6}\\n\")"
   ]
  },
  {
   "cell_type": "code",
   "execution_count": null,
   "metadata": {},
   "outputs": [],
   "source": [
    "from datetime import datetime\n",
    "import pytz\n",
    "\n",
    "# UTC 时间\n",
    "utc_time = \"2024-12-22 18:00:00+00\"\n",
    "\n",
    "# 转换为 datetime 对象\n",
    "utc_time_obj = datetime.fromisoformat(utc_time)\n",
    "\n",
    "# 本地时区（自动根据系统时区）\n",
    "local_time = utc_time_obj.astimezone()\n",
    "\n",
    "print(\"本地时间:\", local_time)\n"
   ]
  },
  {
   "cell_type": "code",
   "execution_count": null,
   "metadata": {},
   "outputs": [],
   "source": [
    "import time\n",
    "time.time()"
   ]
  },
  {
   "cell_type": "code",
   "execution_count": null,
   "metadata": {},
   "outputs": [],
   "source": [
    "181.19+178.18*2"
   ]
  }
 ],
 "metadata": {
  "kernelspec": {
   "display_name": "py39",
   "language": "python",
   "name": "python3"
  },
  "language_info": {
   "codemirror_mode": {
    "name": "ipython",
    "version": 3
   },
   "file_extension": ".py",
   "mimetype": "text/x-python",
   "name": "python",
   "nbconvert_exporter": "python",
   "pygments_lexer": "ipython3",
   "version": "3.9.21"
  }
 },
 "nbformat": 4,
 "nbformat_minor": 2
}
